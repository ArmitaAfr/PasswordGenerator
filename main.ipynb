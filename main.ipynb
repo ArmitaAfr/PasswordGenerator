{
 "cells": [
  {
   "cell_type": "code",
   "execution_count": 246,
   "id": "db49ce4b",
   "metadata": {},
   "outputs": [],
   "source": [
    "from abc import ABC, abstractmethod\n",
    "\n",
    "\n",
    "class PasswordGenerator(ABC):\n",
    "    @abstractmethod\n",
    "    def generate(self):\n",
    "        pass"
   ]
  },
  {
   "cell_type": "code",
   "execution_count": 247,
   "id": "df4f4ec6",
   "metadata": {},
   "outputs": [
    {
     "name": "stderr",
     "output_type": "stream",
     "text": [
      "[nltk_data] Downloading package words to /home/armitasep8/nltk_data...\n",
      "[nltk_data]   Package words is already up-to-date!\n"
     ]
    }
   ],
   "source": [
    "import random\n",
    "import string\n",
    "import nltk \n",
    "\n",
    "nltk.download('words')\n",
    "nltk.corpus.words.words()\n",
    "\n",
    "\n",
    "class pinGenerator(PasswordGenerator):\n",
    "    def __init__(self, length):\n",
    "        self.length = length\n",
    "\n",
    "    def generate(self):\n",
    "        return ''.join([random.choice(string.digits) for _ in range(8)])"
   ]
  },
  {
   "cell_type": "code",
   "execution_count": 248,
   "id": "0c95b1c1",
   "metadata": {},
   "outputs": [],
   "source": [
    "class RandsomPasswordGenerator(PasswordGenerator):\n",
    "    def __init__(self, length=8, include_numbers=False, include_symbols=False):\n",
    "        self.length = length\n",
    "        self.characters = string.ascii_letters\n",
    "        if include_numbers:\n",
    "            self.characters += string.digits\n",
    "        if include_symbols:\n",
    "            self.characters += string.punctuation\n",
    "\n",
    "    def generate(self):\n",
    "        return ''.join([random.choice(self.characters) for _ in range(self.length)])"
   ]
  },
  {
   "cell_type": "code",
   "execution_count": null,
   "id": "1fb9b8fe",
   "metadata": {},
   "outputs": [],
   "source": [
    "class MemorablePasswordGenerator(PasswordGenerator):\n",
    "    def __init__(\n",
    "        self, \n",
    "        number_of_words: int = 4, \n",
    "        seperator: str = '-', \n",
    "        capitalize: bool = False, \n",
    "        vocabulary: list = None\n",
    "    ):\n",
    "        if vocabulary is None:\n",
    "            self.vocabulary = nltk.corpus.words.words()\n",
    "\n",
    "        self.vocabulary = vocabulary\n",
    "        self.num_of_words = number_of_words\n",
    "        self.seperator = seperator\n",
    "        self.capitalize = capitalize\n",
    "\n",
    "\n",
    "    def generate(self):\n",
    "        password_words = [random.choice(self.vocabulary) for _ in range(self.num_of_words)]\n",
    "        if self.capitalize:\n",
    "            password_words = [word.upper() if random.choice([True, False]) else word.lower() for word in password_words]\n",
    "        return self.seperator.join(password_words)"
   ]
  },
  {
   "cell_type": "code",
   "execution_count": 250,
   "id": "6c7c2b39",
   "metadata": {},
   "outputs": [
    {
     "data": {
      "text/plain": [
       "'mass-bleery-hominine-MORPHONOMY'"
      ]
     },
     "execution_count": 250,
     "metadata": {},
     "output_type": "execute_result"
    }
   ],
   "source": [
    "password_generator = MemorablePasswordGenerator(capitalize=True)\n",
    "\n",
    "password_generator.generate()"
   ]
  }
 ],
 "metadata": {
  "kernelspec": {
   "display_name": "new-env",
   "language": "python",
   "name": "python3"
  },
  "language_info": {
   "codemirror_mode": {
    "name": "ipython",
    "version": 3
   },
   "file_extension": ".py",
   "mimetype": "text/x-python",
   "name": "python",
   "nbconvert_exporter": "python",
   "pygments_lexer": "ipython3",
   "version": "3.13.5"
  }
 },
 "nbformat": 4,
 "nbformat_minor": 5
}
